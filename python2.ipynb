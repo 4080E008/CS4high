{
  "nbformat": 4,
  "nbformat_minor": 0,
  "metadata": {
    "colab": {
      "name": "Untitled0.ipynb",
      "provenance": [],
      "include_colab_link": true
    },
    "kernelspec": {
      "name": "python3",
      "display_name": "Python 3"
    }
  },
  "cells": [
    {
      "cell_type": "markdown",
      "metadata": {
        "id": "view-in-github",
        "colab_type": "text"
      },
      "source": [
        "<a href=\"https://colab.research.google.com/github/4080E008/CS4high/blob/master/python2.ipynb\" target=\"_parent\"><img src=\"https://colab.research.google.com/assets/colab-badge.svg\" alt=\"Open In Colab\"/></a>"
      ]
    },
    {
      "cell_type": "markdown",
      "metadata": {
        "id": "qsKDAKk7vzW0",
        "colab_type": "text"
      },
      "source": [
        "#學習重點"
      ]
    },
    {
      "cell_type": "code",
      "metadata": {
        "id": "cFTu8B53vNhz",
        "colab_type": "code",
        "colab": {}
      },
      "source": [
        "\\\\\\\n",
        "學習重點\n",
        "1.使用range 函式 的功能建立整數循序數列\n",
        "2.使用for 廻圈 執行固定次數的廻圈運算(通常)\n",
        "3.使用while 廻圈執行沒有固定次數的廻圈運算\n",
        "4.使用continue 指令--- 通常也是用於廻圈中，是在廻圈執行中途暫時停住不往下執行，而跳到廻圈的起始處執行\n",
        "5.使用break 指令 通常用於廻圈中，可以在廻圈執行中途強迫跳離廻圈，跳到廻圈後面的程式繼續執行。\n",
        "6.廻圈中又包含廻圈的 巢狀廻圈(nested loop)設計===九九乘法表\n",
        "\\\\\\"
      ],
      "execution_count": 0,
      "outputs": []
    },
    {
      "cell_type": "markdown",
      "metadata": {
        "id": "uJCNgfzcwMkH",
        "colab_type": "text"
      },
      "source": [
        "#教科書作業:"
      ]
    },
    {
      "cell_type": "code",
      "metadata": {
        "id": "g_filf4bwa8u",
        "colab_type": "code",
        "colab": {}
      },
      "source": [
        "Unit 5:重複執行的作業\n",
        "Ch16-19"
      ],
      "execution_count": 0,
      "outputs": []
    },
    {
      "cell_type": "markdown",
      "metadata": {
        "id": "frTYf_5TwjzG",
        "colab_type": "text"
      },
      "source": [
        "#range的技術"
      ]
    },
    {
      "cell_type": "markdown",
      "metadata": {
        "id": "P3xIAuG8wsQT",
        "colab_type": "text"
      },
      "source": [
        "range的技術(1)"
      ]
    },
    {
      "cell_type": "code",
      "metadata": {
        "id": "mVw2caGuwxE2",
        "colab_type": "code",
        "colab": {}
      },
      "source": [
        "list1=range(6)\n",
        "list1"
      ],
      "execution_count": 0,
      "outputs": []
    },
    {
      "cell_type": "code",
      "metadata": {
        "id": "KV6I5bUxw1tD",
        "colab_type": "code",
        "colab": {}
      },
      "source": [
        "答案是:[0, 1, 2, 3, 4, 5]"
      ],
      "execution_count": 0,
      "outputs": []
    },
    {
      "cell_type": "markdown",
      "metadata": {
        "id": "rMCP9m52w44v",
        "colab_type": "text"
      },
      "source": [
        "range的技術(2)"
      ]
    },
    {
      "cell_type": "code",
      "metadata": {
        "id": "xSrcADR2w8Td",
        "colab_type": "code",
        "colab": {}
      },
      "source": [
        "list(range(1,6))\n",
        "#list2=range(1,6)\n",
        "#list2"
      ],
      "execution_count": 0,
      "outputs": []
    },
    {
      "cell_type": "code",
      "metadata": {
        "id": "eqpHASwFw-MN",
        "colab_type": "code",
        "colab": {}
      },
      "source": [
        "答案是:[1, 2, 3, 4, 5]"
      ],
      "execution_count": 0,
      "outputs": []
    },
    {
      "cell_type": "markdown",
      "metadata": {
        "id": "SUgkvfC7xBhr",
        "colab_type": "text"
      },
      "source": [
        "range的技術(3)"
      ]
    },
    {
      "cell_type": "code",
      "metadata": {
        "id": "KDzdjuQMxCQP",
        "colab_type": "code",
        "colab": {}
      },
      "source": [
        "list3=range(1,6,2)\n",
        "list3"
      ],
      "execution_count": 0,
      "outputs": []
    },
    {
      "cell_type": "code",
      "metadata": {
        "id": "XmCnoeIexD-e",
        "colab_type": "code",
        "colab": {}
      },
      "source": [
        "答案是:"
      ],
      "execution_count": 0,
      "outputs": []
    },
    {
      "cell_type": "markdown",
      "metadata": {
        "id": "T0vjn6_bxPcO",
        "colab_type": "text"
      },
      "source": [
        "range的技術(4)\n"
      ]
    },
    {
      "cell_type": "code",
      "metadata": {
        "id": "PbAWJ7gxxWCE",
        "colab_type": "code",
        "colab": {}
      },
      "source": [
        "for dd in range(6):\n",
        "   print(dd)"
      ],
      "execution_count": 0,
      "outputs": []
    },
    {
      "cell_type": "code",
      "metadata": {
        "id": "w2nwGSNrxYhX",
        "colab_type": "code",
        "colab": {}
      },
      "source": [
        "答案是:"
      ],
      "execution_count": 0,
      "outputs": []
    },
    {
      "cell_type": "markdown",
      "metadata": {
        "id": "p1wnV9vdxaxX",
        "colab_type": "text"
      },
      "source": [
        "程式閱讀題:下列程式執行後會印出什麼？"
      ]
    },
    {
      "cell_type": "code",
      "metadata": {
        "id": "r5dwIm2IxbVq",
        "colab_type": "code",
        "colab": {}
      },
      "source": [
        "list1=range(10)\n",
        "list2=range(1,10)\n",
        "list3=range(1,10,2)\n",
        "list4=range(10,1,-2)\n",
        "\n",
        "print(list(list1))\n",
        "print(list(list2))\n",
        "print(list(list3)) \n",
        "print(list(list4))  "
      ],
      "execution_count": 0,
      "outputs": []
    },
    {
      "cell_type": "code",
      "metadata": {
        "id": "Igcbt78gxe1e",
        "colab_type": "code",
        "colab": {}
      },
      "source": [
        "答案是:"
      ],
      "execution_count": 0,
      "outputs": []
    },
    {
      "cell_type": "markdown",
      "metadata": {
        "id": "7Swy5nBUwfuc",
        "colab_type": "text"
      },
      "source": [
        ""
      ]
    }
  ]
}